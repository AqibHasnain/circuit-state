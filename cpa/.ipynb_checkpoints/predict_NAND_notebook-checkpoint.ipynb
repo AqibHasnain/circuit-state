{
 "cells": [
  {
   "cell_type": "code",
   "execution_count": 58,
   "metadata": {},
   "outputs": [],
   "source": [
    "import os\n",
    "import numpy as np\n",
    "import pandas as pd\n",
    "import pickle\n",
    "import torch\n",
    "import torch.nn as nn\n",
    "import torch.nn.functional as F\n",
    "import seaborn as sns\n",
    "import matplotlib.pyplot as plt\n",
    "\n",
    "from _utils import gen_modelID_lso, calculate_qc_metrics, get_perts, get_covs, train_one_epoch, compute_metrics\n",
    "from _model import Autoencoder, Discriminator, PertDecoder, CovDecoder"
   ]
  },
  {
   "cell_type": "code",
   "execution_count": 61,
   "metadata": {},
   "outputs": [],
   "source": [
    "plt.rcParams.update({'font.size':23}); plt.rcParams.update({'axes.linewidth':2}); plt.rc('axes', axisbelow=True);\n",
    "plt.rc('lines',linewidth=3); plt.rcParams['axes.spines.right'] = False; plt.rcParams['axes.spines.top'] = False \n",
    "plt.rcParams['xtick.major.size'] = 8; plt.rcParams['xtick.minor.size'] = 3\n",
    "plt.rcParams['xtick.major.width'] = 2; plt.rcParams['xtick.minor.width'] = 1\n",
    "plt.rcParams['ytick.major.size'] = 8; plt.rcParams['ytick.minor.size'] = 3\n",
    "plt.rcParams['ytick.major.width'] = 2; plt.rcParams['ytick.minor.width'] = 1\n",
    "plt.rcParams['xtick.minor.visible'] = True; plt.rcParams['ytick.minor.visible'] = True; \n",
    "\n",
    "strain_palette = [[100/255,190/255,180/255],'tab:blue','tab:red','tab:purple','tab:orange','tab:green','dimgray']\n",
    "\n",
    "figDir = '/home/deepuser/Desktop/aqib/circuit-state/images/'\n"
   ]
  },
  {
   "cell_type": "code",
   "execution_count": 2,
   "metadata": {},
   "outputs": [],
   "source": [
    "# HYPERPARAMETERS\n",
    "HIDDEN_DIM = 512     # number of nodes in hidden layers \n",
    "BASAL_DIM = 6        # latent space dimension\n",
    "WD_ae = 5.358399e-07          # weight decay for gene encoder, perturbation encoder, and gene decoder regularization\n",
    "WD_p = 6.834876e-07          # weight decay for perturbation decoder regularization\n",
    "WD_c = 0.0           # weight decay for discrete covariate decoder regularization\n",
    "LR_ae = 1.628518            # learning rate for updating gene encoder, perturbation encoder, and gene decoder parameters\n",
    "LR_p = 1.185928          # learning rate for updating perturbation decoder parameters\n",
    "LR_c = 1.0           # learning rate for updating discrete covariate decoder parameters\n",
    "LAM = 0.000838          # discrimination loss maximization during autoencoder updates\n",
    "BATCH_SIZE = 16     # amt of data pts seen by network per parameter update\n",
    "GENE_PER = 0.95      # percentile of number of zero expression genes per sample to use as threshold for sample filtering\n",
    "SAMPLE_PER = 0.05    # percentile of number of samples with zero expression (per gene) to use as threshold for gene filtering"
   ]
  },
  {
   "cell_type": "code",
   "execution_count": 3,
   "metadata": {},
   "outputs": [
    {
     "name": "stdout",
     "output_type": "stream",
     "text": [
      "cuda:0\n"
     ]
    }
   ],
   "source": [
    "# device to train model on\n",
    "device = torch.device('cuda:0' if torch.cuda.is_available() else 'cpu')\n",
    "print(device)"
   ]
  },
  {
   "cell_type": "code",
   "execution_count": 4,
   "metadata": {},
   "outputs": [],
   "source": [
    "# Load data\n",
    "adata = pickle.load(open('/home/deepuser/Desktop/aqib/circuit-state/NAND_iterate/odata_NANDiterate.pkl','rb')) # log1p'd"
   ]
  },
  {
   "cell_type": "code",
   "execution_count": 5,
   "metadata": {},
   "outputs": [
    {
     "name": "stdout",
     "output_type": "stream",
     "text": [
      "within sample cutoff 506.0\n",
      "Number of samples with high amount of zero genes: 50\n",
      "within gene cutoff 131.29999999999973\n",
      "Number of genes with high amount of zeros: 205\n"
     ]
    }
   ],
   "source": [
    "# Preprocess data\n",
    "samples2keep, genes2keep = calculate_qc_metrics(adata.X[:,:-9], within_gene_per=GENE_PER, within_sample_per=SAMPLE_PER)\n",
    "adata = adata[samples2keep, genes2keep + [True]*9].copy() # [True]*9 is there to keep the synthetic genes\n",
    "\n",
    "# Convert host gene expression to torch tensor\n",
    "X = torch.tensor(adata.X[:,0:-9]).type(torch.float) # host gene transcriptomics\n",
    "\n",
    "odata = adata.copy()\n",
    "\n",
    "# Get pertubation matrix\n",
    "adata, P = get_perts(adata, time_scale=(0,5), iptg_scale=(0,15), ara_scale=(0,15))\n",
    "P = torch.tensor(P).type(torch.float)\n",
    "\n",
    "# Get covariate matrix \n",
    "C = get_covs(adata)\n",
    "C = torch.tensor(C).type(torch.float)\n",
    "\n",
    "pert_names = ['Sensor_TetR',\n",
    "              'Sensor_LacI',\n",
    "              'Sensor_AraC',\n",
    "              'Sensor_LuxR',\n",
    "              'Circuit_PhlF',\n",
    "              'KanR',\n",
    "              'CmR',\n",
    "              'YFP',\n",
    "              'Circuit_IcaR',\n",
    "              'time',\n",
    "              'IPTG',\n",
    "              'Ara']"
   ]
  },
  {
   "cell_type": "code",
   "execution_count": 6,
   "metadata": {},
   "outputs": [
    {
     "data": {
      "text/plain": [
       "<torch._C.Generator at 0x7f7bdaf6cb88>"
      ]
     },
     "execution_count": 6,
     "metadata": {},
     "output_type": "execute_result"
    }
   ],
   "source": [
    "torch.manual_seed(1)"
   ]
  },
  {
   "cell_type": "code",
   "execution_count": 7,
   "metadata": {},
   "outputs": [
    {
     "name": "stdout",
     "output_type": "stream",
     "text": [
      "Number of training samples:  850\n",
      "Number of test samples:  107\n"
     ]
    }
   ],
   "source": [
    "strain = 'NAND_Circuit'\n",
    "train_obs = (~adata.obs.strain.isin([strain])).tolist() # cross-sample bool vector. False where .obs.strain == `strain`\n",
    "test_obs = (adata.obs.strain.isin([strain])).tolist()\n",
    "X_train, X_test = X[train_obs], X[test_obs]\n",
    "P_train, P_test = P[train_obs], P[test_obs]\n",
    "C_train, C_test = C[train_obs], C[test_obs]\n",
    "print('Number of training samples: ', X_train.shape[0])\n",
    "print('Number of test samples: ', X_test.shape[0])"
   ]
  },
  {
   "cell_type": "code",
   "execution_count": 8,
   "metadata": {},
   "outputs": [],
   "source": [
    "# encoder input dimensions\n",
    "input_dim = X.shape[1]\n",
    "pert_dim = P.shape[1]\n",
    "cov_dim = C.shape[1]"
   ]
  },
  {
   "cell_type": "code",
   "execution_count": 9,
   "metadata": {},
   "outputs": [
    {
     "data": {
      "text/plain": [
       "<All keys matched successfully>"
      ]
     },
     "execution_count": 9,
     "metadata": {},
     "output_type": "execute_result"
    }
   ],
   "source": [
    "# load trained model (trained on strains other than NAND_Circuit)\n",
    "model_id = 'predict_NAND'\n",
    "\n",
    "autoenc = Autoencoder(input_dim, [HIDDEN_DIM, BASAL_DIM], pert_dim, cov_dim)\n",
    "discrim = Discriminator(BASAL_DIM, pert_dim)\n",
    "discrim_cov = Discriminator(BASAL_DIM, cov_dim)\n",
    "pertdec = PertDecoder(pert_dim, BASAL_DIM)\n",
    "covdec = CovDecoder(cov_dim, BASAL_DIM)\n",
    "\n",
    "autoenc.load_state_dict(torch.load(\n",
    "                             '/home/deepuser/Desktop/aqib/circuit-state/cpa/saved_models/autoenc_'+model_id+'.pt'))\n",
    "discrim.load_state_dict(torch.load(\n",
    "                             '/home/deepuser/Desktop/aqib/circuit-state/cpa/saved_models/discrim_'+model_id+'.pt'))\n",
    "discrim_cov.load_state_dict(torch.load(\n",
    "                             '/home/deepuser/Desktop/aqib/circuit-state/cpa/saved_models/discrim_cov_'+model_id+'.pt'))\n",
    "pertdec.load_state_dict(torch.load(\n",
    "                             '/home/deepuser/Desktop/aqib/circuit-state/cpa/saved_models/pertdec_'+model_id+'.pt'))\n",
    "covdec.load_state_dict(torch.load(\n",
    "                             '/home/deepuser/Desktop/aqib/circuit-state/cpa/saved_models/covdec_'+model_id+'.pt'))\n"
   ]
  },
  {
   "cell_type": "code",
   "execution_count": 10,
   "metadata": {},
   "outputs": [],
   "source": [
    "X_test_pred = autoenc(X_test,P_test,C_test).detach()"
   ]
  },
  {
   "cell_type": "code",
   "execution_count": 57,
   "metadata": {},
   "outputs": [],
   "source": [
    "HUE = odata[test_obs].copy().obs.timepoint\n",
    "HUE = np.array([(float(x)) for x in HUE])\n",
    "HUE = np.tile(HUE[:,np.newaxis], X_test.shape[1]).reshape(-1)"
   ]
  },
  {
   "cell_type": "code",
   "execution_count": 94,
   "metadata": {},
   "outputs": [
    {
     "data": {
      "text/plain": [
       "4162"
      ]
     },
     "execution_count": 94,
     "metadata": {},
     "output_type": "execute_result"
    }
   ],
   "source": []
  },
  {
   "cell_type": "code",
   "execution_count": 96,
   "metadata": {},
   "outputs": [
    {
     "data": {
      "text/plain": [
       "array([189846, 246361, 390784, ..., 119086, 138525, 337464])"
      ]
     },
     "execution_count": 96,
     "metadata": {},
     "output_type": "execute_result"
    }
   ],
   "source": []
  },
  {
   "cell_type": "code",
   "execution_count": 107,
   "metadata": {},
   "outputs": [
    {
     "data": {
      "image/png": "[encoded data removed]",
      "text/plain": [
       "<Figure size 504x288 with 1 Axes>"
      ]
     },
     "metadata": {
      "needs_background": "light"
     },
     "output_type": "display_data"
    }
   ],
   "source": [
    "savefig = False\n",
    "randsample = np.random.randint(0,np.array(X_test).reshape(-1,order='F').shape,\n",
    "                               int(np.array(X_test).reshape(-1,order='F').shape[0]/15))\n",
    "plt.figure(figsize=(7,4))\n",
    "sns.scatterplot(x=np.array(X_test).reshape(-1,order='F')[randsample], \n",
    "                y=np.array(X_test_pred).reshape(-1,order='F')[randsample],\n",
    "                hue=HUE[randsample],palette=['r','b','g','c'],alpha=0.8)\n",
    "plt.legend(frameon=False,title='Time (hr)',fontsize=21,ncol=2,loc=(0.6,0.1))\n",
    "plt.axline((0, 0), slope=1, linewidth=1.75,color='k')\n",
    "plt.xlabel('True gene expression - NAND')\n",
    "plt.ylabel('Predicted gene expression \\n - NAND')\n",
    "if savefig: \n",
    "    plt.savefig(figDir+'scatter_predict_NAND.pdf',\n",
    "                bbox_inches='tight',transparent=True,dpi=300)\n",
    "plt.show()\n"
   ]
  },
  {
   "cell_type": "code",
   "execution_count": null,
   "metadata": {},
   "outputs": [],
   "source": []
  },
  {
   "cell_type": "code",
   "execution_count": null,
   "metadata": {},
   "outputs": [],
   "source": []
  },
  {
   "cell_type": "code",
   "execution_count": null,
   "metadata": {},
   "outputs": [],
   "source": []
  },
  {
   "cell_type": "code",
   "execution_count": null,
   "metadata": {},
   "outputs": [],
   "source": []
  },
  {
   "cell_type": "code",
   "execution_count": null,
   "metadata": {},
   "outputs": [],
   "source": []
  },
  {
   "cell_type": "code",
   "execution_count": null,
   "metadata": {},
   "outputs": [],
   "source": []
  },
  {
   "cell_type": "code",
   "execution_count": null,
   "metadata": {},
   "outputs": [],
   "source": []
  },
  {
   "cell_type": "code",
   "execution_count": null,
   "metadata": {},
   "outputs": [],
   "source": []
  },
  {
   "cell_type": "code",
   "execution_count": null,
   "metadata": {},
   "outputs": [],
   "source": []
  },
  {
   "cell_type": "code",
   "execution_count": null,
   "metadata": {},
   "outputs": [],
   "source": []
  },
  {
   "cell_type": "code",
   "execution_count": null,
   "metadata": {},
   "outputs": [],
   "source": []
  }
 ],
 "metadata": {
  "kernelspec": {
   "display_name": "Python 3",
   "language": "python",
   "name": "python3"
  },
  "language_info": {
   "codemirror_mode": {
    "name": "ipython",
    "version": 3
   },
   "file_extension": ".py",
   "mimetype": "text/x-python",
   "name": "python",
   "nbconvert_exporter": "python",
   "pygments_lexer": "ipython3",
   "version": "3.6.9"
  }
 },
 "nbformat": 4,
 "nbformat_minor": 2
}
