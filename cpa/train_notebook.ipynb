{
 "cells": [
  {
   "cell_type": "markdown",
   "metadata": {},
   "source": [
    "Might need to add a small weight to the + self.covencoder(x) term in the basal state composition. Seems like that term is doing  a lot of work  in reconstructing x from z "
   ]
  },
  {
   "cell_type": "code",
   "execution_count": 3,
   "metadata": {},
   "outputs": [],
   "source": [
    "import numpy as np\n",
    "import pandas as pd\n",
    "import pickle\n",
    "import os\n",
    "from copy import deepcopy\n",
    "from sklearn.model_selection import train_test_split, StratifiedKFold\n",
    "from sklearn.metrics import r2_score\n",
    "from sklearn.preprocessing import StandardScaler, MinMaxScaler\n",
    "from sklearn.decomposition import PCA, KernelPCA\n",
    "import torch\n",
    "import torch.nn as nn\n",
    "import torch.nn.functional as F\n",
    "\n",
    "import scanpy as sc\n",
    "\n",
    "import matplotlib.pyplot as plt\n",
    "from mpl_toolkits import mplot3d\n",
    "import seaborn as sns\n",
    "\n",
    "from _utils import gen_modelID, calculate_qc_metrics, get_perts, get_covs, train_one_epoch, compute_metrics\n",
    "from _model import Autoencoder, Discriminator, PertDecoder, CovDecoder\n"
   ]
  },
  {
   "cell_type": "code",
   "execution_count": 4,
   "metadata": {},
   "outputs": [],
   "source": [
    "plt.rcParams.update({'font.size':23}); plt.rcParams.update({'axes.linewidth':2}); plt.rc('axes', axisbelow=True);\n",
    "plt.rc('lines',linewidth=3); plt.rcParams['axes.spines.right'] = False; plt.rcParams['axes.spines.top'] = False \n",
    "plt.rcParams['xtick.major.size'] = 8; plt.rcParams['xtick.minor.size'] = 3\n",
    "plt.rcParams['xtick.major.width'] = 2; plt.rcParams['xtick.minor.width'] = 1\n",
    "plt.rcParams['ytick.major.size'] = 8; plt.rcParams['ytick.minor.size'] = 3\n",
    "plt.rcParams['ytick.major.width'] = 2; plt.rcParams['ytick.minor.width'] = 1\n",
    "plt.rcParams['xtick.minor.visible'] = True; plt.rcParams['ytick.minor.visible'] = True; "
   ]
  },
  {
   "cell_type": "code",
   "execution_count": 5,
   "metadata": {},
   "outputs": [],
   "source": [
    "res = pd.read_csv('model_stats/unseen_strain_report.csv',index_col=0)"
   ]
  },
  {
   "cell_type": "code",
   "execution_count": 6,
   "metadata": {},
   "outputs": [
    {
     "data": {
      "text/plain": [
       "1.18592824486385"
      ]
     },
     "execution_count": 6,
     "metadata": {},
     "output_type": "execute_result"
    }
   ],
   "source": [
    "res.loc['lso_0007'].lr_p[0]"
   ]
  },
  {
   "cell_type": "code",
   "execution_count": 7,
   "metadata": {},
   "outputs": [],
   "source": [
    "save_model = False\n",
    "\n",
    "# HYPERPARAMETERS\n",
    "HIDDEN_DIM = 512     # number of nodes in hidden layers \n",
    "BASAL_DIM = 5        # latent space dimension\n",
    "WD_ae = 0.0          # weight decay for gene encoder, perturbation encoder, and gene decoder regularization\n",
    "WD_p = 0.0          # weight decay for perturbation decoder regularization\n",
    "WD_c = 0.0           # weight decay for discrete covariate decoder regularization\n",
    "LR_ae = 1.6285175512867442           # learning rate for updating gene encoder, perturbation encoder, and gene decoder parameters\n",
    "LR_p = 1.18592824486385          # learning rate for updating perturbation decoder parameters\n",
    "LR_c = 1.0           # learning rate for updating discrete covariate decoder parameters\n",
    "LAM = 0.0008376461430174688          # discrimination loss maximization during autoencoder updates\n",
    "BATCH_SIZE = 128     # amt of data pts seen by network per parameter update\n",
    "GENE_PER = 0.95      # percentile of number of zero expression genes per sample to use as threshold for sample filtering\n",
    "SAMPLE_PER = 0.05    # percentile of number of samples with zero expression (per gene) to use as threshold for gene filtering\n",
    "\n",
    "NUM_EPOCHS = 1000 # number of epochs to train for\n",
    "\n",
    "GENE_PER = 0.95      # percentile of number of zero expression genes per sample to use as threshold for sample filtering\n",
    "SAMPLE_PER = 0.05    # percentile of number of samples with zero expression (per gene) to use as threshold for gene filtering"
   ]
  },
  {
   "cell_type": "code",
   "execution_count": 8,
   "metadata": {},
   "outputs": [
    {
     "name": "stdout",
     "output_type": "stream",
     "text": [
      "cuda:0\n",
      "within sample cutoff 506.0\n",
      "Number of samples with high amount of zero genes: 50\n",
      "within gene cutoff 131.29999999999973\n",
      "Number of genes with high amount of zeros: 205\n"
     ]
    }
   ],
   "source": [
    "# generate unique model ID\n",
    "# model_id = gen_modelID(path='saved_models')\n",
    "# print(model_id)\n",
    "\n",
    "# device to train model on\n",
    "device = torch.device('cuda:0' if torch.cuda.is_available() else 'cpu')\n",
    "print(device)\n",
    "\n",
    "# Load data\n",
    "adata = pickle.load(open('/home/deepuser/Desktop/aqib/circuit-state/NAND_iterate/odata_NANDiterate.pkl','rb')) # log1p'd\n",
    "\n",
    "# Preprocess data\n",
    "samples2keep, genes2keep = calculate_qc_metrics(adata.X[:,:-9], within_gene_per=GENE_PER, within_sample_per=SAMPLE_PER)\n",
    "adata = adata[samples2keep, genes2keep + [True]*9].copy() # [True]*9 is there to keep the synthetic genes\n",
    "\n",
    "# Convert host gene expression to torch tensor\n",
    "X = torch.tensor(adata.X[:,0:-9]).type(torch.float) # host gene transcriptomics\n",
    "\n",
    "# Get pertubation matrix\n",
    "adata, P = get_perts(adata, time_scale=(0,5), iptg_scale=(0,15), ara_scale=(0,15))\n",
    "P = torch.tensor(P).type(torch.float)\n",
    "\n",
    "pert_names = ['Sensor_TetR',\n",
    "              'Sensor_LacI',\n",
    "              'Sensor_AraC',\n",
    "              'Sensor_LuxR',\n",
    "              'Circuit_PhlF',\n",
    "              'KanR',\n",
    "              'CmR',\n",
    "              'YFP',\n",
    "              'Circuit_IcaR',\n",
    "              'time',\n",
    "              'IPTG',\n",
    "              'Ara']\n",
    "\n",
    "# Get covariate matrix \n",
    "C = get_covs(adata)\n",
    "C = torch.tensor(C).type(torch.float)"
   ]
  },
  {
   "cell_type": "code",
   "execution_count": 9,
   "metadata": {},
   "outputs": [
    {
     "name": "stdout",
     "output_type": "stream",
     "text": [
      "EPOCH: 0, X_LOSS: 38.234960, P_LOSS: 61.819023, C_LOSS: 2.515349, DP_LOSS: 73.158652, DC_LOSS: 3.025276\n",
      "EPOCH: 50, X_LOSS: 13.427480, P_LOSS: 7.726947, C_LOSS: 0.001183, DP_LOSS: 35.299954, DC_LOSS: 2.204022\n",
      "EPOCH: 100, X_LOSS: 12.246436, P_LOSS: 11.144717, C_LOSS: 0.000415, DP_LOSS: 30.496953, DC_LOSS: 1.642348\n",
      "EPOCH: 150, X_LOSS: 6.819435, P_LOSS: 10.468618, C_LOSS: 0.000266, DP_LOSS: 30.024213, DC_LOSS: 1.358718\n",
      "EPOCH: 200, X_LOSS: 0.310072, P_LOSS: 7.328201, C_LOSS: 0.000179, DP_LOSS: 29.689603, DC_LOSS: 1.501807\n",
      "EPOCH: 250, X_LOSS: 0.198996, P_LOSS: 6.533200, C_LOSS: 0.000142, DP_LOSS: 28.144422, DC_LOSS: 1.229338\n",
      "EPOCH: 300, X_LOSS: 0.198209, P_LOSS: 6.612067, C_LOSS: 0.000113, DP_LOSS: 29.379698, DC_LOSS: 1.774913\n",
      "EPOCH: 350, X_LOSS: 0.164044, P_LOSS: 6.510781, C_LOSS: 0.000094, DP_LOSS: 29.388149, DC_LOSS: 1.613846\n",
      "EPOCH: 400, X_LOSS: 0.150572, P_LOSS: 6.641060, C_LOSS: 0.000082, DP_LOSS: 31.246083, DC_LOSS: 1.759285\n",
      "EPOCH: 450, X_LOSS: 0.148944, P_LOSS: 5.691172, C_LOSS: 0.000073, DP_LOSS: 31.630315, DC_LOSS: 1.767366\n",
      "EPOCH: 500, X_LOSS: 0.128669, P_LOSS: 5.379902, C_LOSS: 0.000061, DP_LOSS: 32.340523, DC_LOSS: 1.778022\n",
      "EPOCH: 550, X_LOSS: 0.132428, P_LOSS: 5.352974, C_LOSS: 0.000058, DP_LOSS: 31.405601, DC_LOSS: 1.703710\n",
      "EPOCH: 600, X_LOSS: 0.138995, P_LOSS: 6.214657, C_LOSS: 0.000052, DP_LOSS: 32.471406, DC_LOSS: 1.826479\n",
      "EPOCH: 650, X_LOSS: 0.123168, P_LOSS: 4.532622, C_LOSS: 0.000046, DP_LOSS: 31.731732, DC_LOSS: 1.678647\n",
      "EPOCH: 700, X_LOSS: 0.120456, P_LOSS: 4.723726, C_LOSS: 0.000045, DP_LOSS: 32.031126, DC_LOSS: 1.906757\n",
      "EPOCH: 750, X_LOSS: 0.115438, P_LOSS: 4.071694, C_LOSS: 0.000039, DP_LOSS: 31.855477, DC_LOSS: 1.704452\n",
      "EPOCH: 800, X_LOSS: 0.109008, P_LOSS: 2.703949, C_LOSS: 0.000037, DP_LOSS: 31.991722, DC_LOSS: 1.813131\n",
      "EPOCH: 850, X_LOSS: 0.121232, P_LOSS: 3.658280, C_LOSS: 0.000035, DP_LOSS: 32.619817, DC_LOSS: 1.793804\n",
      "EPOCH: 900, X_LOSS: 0.116170, P_LOSS: 2.764385, C_LOSS: 0.000033, DP_LOSS: 34.268394, DC_LOSS: 1.910875\n",
      "EPOCH: 950, X_LOSS: 0.104058, P_LOSS: 2.950409, C_LOSS: 0.000032, DP_LOSS: 33.276316, DC_LOSS: 1.839841\n",
      "x recon r2: 0.811893\n",
      "p recon r2: 0.890656\n",
      "c recon acc: 1.000000\n",
      "p discrim r2: 0.164890\n",
      "c discrim acc: 0.466722\n"
     ]
    }
   ],
   "source": [
    "torch.manual_seed(1)\n",
    "\n",
    "# encoder input dimensions\n",
    "input_dim = X.shape[1]\n",
    "pert_dim = P.shape[1]\n",
    "cov_dim = C.shape[1]\n",
    "\n",
    "# model instantiation\n",
    "autoenc = Autoencoder(input_dim, [HIDDEN_DIM, BASAL_DIM], pert_dim, cov_dim)\n",
    "discrim = Discriminator(BASAL_DIM, pert_dim)\n",
    "discrim_cov = Discriminator(BASAL_DIM, cov_dim)\n",
    "pertdec = PertDecoder(pert_dim, BASAL_DIM)\n",
    "covdec = CovDecoder(cov_dim, BASAL_DIM)\n",
    "autoenc.to(device)\n",
    "discrim.to(device)\n",
    "discrim_cov.to(device)\n",
    "pertdec.to(device)\n",
    "covdec.to(device)\n",
    "\n",
    "mse = nn.MSELoss()\n",
    "ce = nn.CrossEntropyLoss()\n",
    "\n",
    "autoenc_optimizer = torch.optim.Adadelta(autoenc.parameters(), lr=LR_ae, weight_decay=WD_ae)\n",
    "discrim_optimizer = torch.optim.Adam(discrim.parameters())\n",
    "discrim_cov_optimizer = torch.optim.Adam(discrim_cov.parameters())\n",
    "pertdec_optimizer = torch.optim.Adadelta(pertdec.parameters(), lr=LR_p, weight_decay=WD_p)\n",
    "covdec_optimizer = torch.optim.Adadelta(covdec.parameters(), lr=LR_c, weight_decay=WD_c)\n",
    "\n",
    "### Start training ### \n",
    "for epoch in range(NUM_EPOCHS):\n",
    "\n",
    "    loss_x, loss_dp, loss_dc, loss_p, loss_c = train_one_epoch(\n",
    "        autoenc, discrim, discrim_cov, pertdec, covdec,\n",
    "        autoenc_optimizer, discrim_optimizer, discrim_cov_optimizer, pertdec_optimizer, covdec_optimizer, \n",
    "        mse, ce, X, P, C, BATCH_SIZE, LAM, device)\n",
    "\n",
    "    if epoch % (NUM_EPOCHS*0.05) == 0: \n",
    "        print( f'EPOCH: {epoch}, X_LOSS: {loss_x:.6f}, P_LOSS: {loss_p:.6f}, C_LOSS: {loss_c:.6f}, DP_LOSS: {loss_dp:.6f}, DC_LOSS: {loss_dc:.6f}')\n",
    "\n",
    "\n",
    "autoenc.eval()\n",
    "discrim.eval()\n",
    "discrim_cov.eval()\n",
    "pertdec.eval()\n",
    "covdec.eval()\n",
    "with torch.no_grad():\n",
    "    r2_x, r2_p, acc_c, r2_dp, acc_dc = compute_metrics(autoenc, discrim, discrim_cov, pertdec, covdec, X, P, C, device)"
   ]
  },
  {
   "cell_type": "code",
   "execution_count": 10,
   "metadata": {},
   "outputs": [],
   "source": [
    "X_proj = autoenc.encoder(X.to(device)).cpu().detach().numpy()"
   ]
  },
  {
   "cell_type": "code",
   "execution_count": 13,
   "metadata": {},
   "outputs": [
    {
     "data": {
      "image/png": "[encoded data removed]",
      "text/plain": [
       "<Figure size 432x288 with 1 Axes>"
      ]
     },
     "metadata": {
      "needs_background": "light"
     },
     "output_type": "display_data"
    }
   ],
   "source": [
    "sns.scatterplot(x=X_proj[:,0],y=X_proj[:,1],hue=adata.obs.strain,legend=False)\n",
    "plt.show()"
   ]
  },
  {
   "cell_type": "code",
   "execution_count": 14,
   "metadata": {},
   "outputs": [
    {
     "name": "stdout",
     "output_type": "stream",
     "text": [
      "AnnData object with n_obs × n_vars = 26 × 3899\n",
      "    obs: 'sample_id', 'timepoint', 'strain', 'temperature', 'replicate', 'arabinose_concentration', 'arabinose_unit', 'IPTG_concentration', 'IPTG_unit', 'strain_input_state', 'input_state', 'strain1'\n",
      "    uns: 'log1p'\n",
      "AnnData object with n_obs × n_vars = 26 × 3899\n",
      "    obs: 'sample_id', 'timepoint', 'strain', 'temperature', 'replicate', 'arabinose_concentration', 'arabinose_unit', 'IPTG_concentration', 'IPTG_unit', 'strain_input_state', 'input_state', 'strain1'\n",
      "    uns: 'log1p'\n"
     ]
    }
   ],
   "source": [
    "### Circuit gene impact on host ###\n",
    "\n",
    "# grab an example\n",
    "indices = np.nonzero( ( (adata.obs.strain.isin(['NAND_Circuit'])) & \n",
    "            (adata.obs.IPTG_concentration.isin([0.0])) &\n",
    "            (adata.obs.arabinose_concentration.isin([0.0])) ).values )[0].tolist()\n",
    "bdata = adata[indices].copy()\n",
    "print(bdata)\n",
    "\n",
    "# grab an example\n",
    "w_indices = np.nonzero( ( (adata.obs.strain.isin(['wild-type'])) & \n",
    "            (adata.obs.IPTG_concentration.isin([0.0])) &\n",
    "            (adata.obs.arabinose_concentration.isin([0.0])) ).values )[0].tolist()\n",
    "wdata = adata[w_indices].copy()\n",
    "print(wdata)"
   ]
  },
  {
   "cell_type": "code",
   "execution_count": 15,
   "metadata": {},
   "outputs": [
    {
     "name": "stderr",
     "output_type": "stream",
     "text": [
      "/home/deepuser/.local/lib/python3.6/site-packages/ipykernel_launcher.py:31: UserWarning: To copy construct from a tensor, it is recommended to use sourceTensor.clone().detach() or sourceTensor.clone().detach().requires_grad_(True), rather than torch.tensor(sourceTensor).\n",
      "/home/deepuser/.local/lib/python3.6/site-packages/ipykernel_launcher.py:32: UserWarning: To copy construct from a tensor, it is recommended to use sourceTensor.clone().detach() or sourceTensor.clone().detach().requires_grad_(True), rather than torch.tensor(sourceTensor).\n",
      "/home/deepuser/.local/lib/python3.6/site-packages/ipykernel_launcher.py:33: UserWarning: To copy construct from a tensor, it is recommended to use sourceTensor.clone().detach() or sourceTensor.clone().detach().requires_grad_(True), rather than torch.tensor(sourceTensor).\n"
     ]
    }
   ],
   "source": [
    "P_b = np.concatenate(( bdata.X[:,-9:],\n",
    "                 bdata.obs.timepoint.values.reshape(-1,1),\n",
    "                 bdata.obs.IPTG_concentration.values.reshape(-1,1),\n",
    "                 bdata.obs.arabinose_concentration.values.reshape(-1,1) ),axis=1)\n",
    "\n",
    "P_b_cf = deepcopy(P_b)\n",
    "\n",
    "c_b = C[indices]\n",
    "\n",
    "# counterfactually change KanR expression to see what would happen to synthetic cell state genes\n",
    "inds_to_zero = [0,1,2,3]\n",
    "# inds_to_zero = [4,5,6,7,8]\n",
    "# inds_to_zero = [0,1,2,3,4,5,6,7,8]\n",
    "frac2rmv = 1\n",
    "P_b_cf[:,inds_to_zero] = P_b_cf[:,inds_to_zero] - frac2rmv*P_b_cf[:,inds_to_zero]\n",
    "\n",
    "c_b_cf = C[w_indices] # just so happen that indices  and  w_indices are same length (won't always be this easy)\n",
    "\n",
    "# wild-type \n",
    "P_w = np.concatenate(( wdata.X[:,-9:],\n",
    "                 wdata.obs.timepoint.values.reshape(-1,1),\n",
    "                 wdata.obs.IPTG_concentration.values.reshape(-1,1),\n",
    "                 wdata.obs.arabinose_concentration.values.reshape(-1,1) ),axis=1)\n",
    "\n",
    "c_w = C[w_indices]\n",
    "\n",
    "\n",
    "P_b = torch.tensor(P_b)\n",
    "P_b_cf = torch.tensor(P_b_cf)\n",
    "P_w = torch.tensor(P_w)\n",
    "c_b =  torch.tensor(c_b)\n",
    "c_b_cf = torch.tensor(c_b_cf)\n",
    "c_w = torch.tensor(c_w)"
   ]
  },
  {
   "cell_type": "code",
   "execution_count": 16,
   "metadata": {},
   "outputs": [],
   "source": [
    "autoenc.eval()\n",
    "X_hat = autoenc(X[indices].to(device), \n",
    "                P_b.to(device),\n",
    "                c_b.to(device)).cpu().detach().numpy()\n",
    "X_hat_cf = autoenc(X[indices].to(device), \n",
    "                   P_b_cf.to(device),\n",
    "                   c_b_cf.to(device)).cpu().detach().numpy()\n",
    "X_hat_w = autoenc(X[w_indices].to(device), \n",
    "                  P_w.to(device),\n",
    "                  c_w.to(device)).cpu().detach().numpy()\n"
   ]
  },
  {
   "cell_type": "code",
   "execution_count": 17,
   "metadata": {},
   "outputs": [
    {
     "data": {
      "image/png": "[encoded data removed]",
      "text/plain": [
       "<Figure size 432x288 with 1 Axes>"
      ]
     },
     "metadata": {
      "needs_background": "light"
     },
     "output_type": "display_data"
    }
   ],
   "source": [
    "this_gene = 'ompR'\n",
    "this_ind = adata.var_names.tolist().index(this_gene)\n",
    "plt.figure(figsize=(6,4))\n",
    "sns.scatterplot(x = bdata.obs.timepoint.tolist(),\n",
    "                y = bdata[:,this_gene].X.toarray().reshape(-1),\n",
    "                s = 100, legend = False, color='k',)\n",
    "\n",
    "sns.scatterplot(x = wdata.obs.timepoint.tolist(),\n",
    "                y = wdata[:,this_gene].X.toarray().reshape(-1),\n",
    "                s = 100, legend = False, color='b',)\n",
    "\n",
    "sns.lineplot(x=P_b[:,-3],\n",
    "             y=X_hat[:,this_ind],\n",
    "             color='k')\n",
    "\n",
    "sns.lineplot(x=P_b_cf[:,-3],\n",
    "             y=X_hat_cf[:,this_ind],\n",
    "             color='hotpink')\n",
    "\n",
    "sns.lineplot(x=P_w[:,-3],\n",
    "             y=X_hat_w[:,this_ind],\n",
    "             color='b')\n",
    "\n",
    "# plt.ylim(3.5,9.25)\n",
    "plt.ylabel(this_gene)\n",
    "plt.xlabel('time (hrs)')\n",
    "plt.show()\n",
    "\n",
    "\n",
    "\n"
   ]
  },
  {
   "cell_type": "code",
   "execution_count": null,
   "metadata": {},
   "outputs": [],
   "source": []
  }
 ],
 "metadata": {
  "kernelspec": {
   "display_name": "Python 3",
   "language": "python",
   "name": "python3"
  },
  "language_info": {
   "codemirror_mode": {
    "name": "ipython",
    "version": 3
   },
   "file_extension": ".py",
   "mimetype": "text/x-python",
   "name": "python",
   "nbconvert_exporter": "python",
   "pygments_lexer": "ipython3",
   "version": "3.6.9"
  }
 },
 "nbformat": 4,
 "nbformat_minor": 2
}
